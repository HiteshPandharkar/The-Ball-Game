{
 "cells": [
  {
   "cell_type": "markdown",
   "metadata": {},
   "source": [
    "## The Ball Game"
   ]
  },
  {
   "cell_type": "code",
   "execution_count": 1,
   "metadata": {},
   "outputs": [],
   "source": [
    "import random"
   ]
  },
  {
   "cell_type": "code",
   "execution_count": 2,
   "metadata": {},
   "outputs": [
    {
     "name": "stdout",
     "output_type": "stream",
     "text": [
      "1111134 times found in first trial\n",
      "6664943 times found in second trial\n",
      "2223923 times found in third trial\n"
     ]
    }
   ],
   "source": [
    "balls = [x for x in range(1, 10)]\n",
    "balls1 = balls\n",
    "\n",
    "heavier_ball = balls[6]\n",
    "\n",
    "#print(balls1, '\\n', 'Heavier Ball -', heavier_ball)\n",
    "\n",
    "c1, c2, c3 = 0, 0, 0\n",
    "\n",
    "n_trials = 10000000\n",
    "\n",
    "for i in range(n_trials) :\n",
    "    random.shuffle(balls1)\n",
    "    \n",
    "    # Initialising main clusters. \n",
    "    # Cluster 1 has 4 balls.\n",
    "    # Cluster 2 has 4 balls.\n",
    "    # Cluster 3 has 1 ball.\n",
    "    \n",
    "    cluster1 = random.sample(balls1, 4)\n",
    "    balls1 = [x for x in balls1 if x not in cluster1]\n",
    "    cluster2 = random.sample(balls1, 4)\n",
    "    balls1 = [x for x in balls1 if x not in cluster2]\n",
    "    cluster3 = balls1\n",
    "    \n",
    "    if(heavier_ball in cluster3) :  # Finding the heavier ball in cluster3.\n",
    "        c1 += 1\n",
    "        \n",
    "    elif(heavier_ball in cluster1) : # Finding the heavier ball in cluster1.\n",
    "        \n",
    "        # Initialising sub-clusters for cluster1.\n",
    "        # cluster1_1 has 2 balls.\n",
    "        # cluster1_2 has 2 balls.\n",
    "        \n",
    "        cluster1_1 = random.sample(cluster1, 2)\n",
    "        cluster1 = [x for x in cluster1 if x not in cluster1_1]\n",
    "        if(heavier_ball in cluster1_1) : # Finding the heavier ball in cluster1_1.\n",
    "            c2 += 1\n",
    "        else :                           # Finding the heavier ball in cluster1_2.\n",
    "            c3 += 1\n",
    "        \n",
    "    else :\n",
    "        \n",
    "        # Initialising sub-clusters for cluster2.\n",
    "        # cluster2_1 has 2 balls.\n",
    "        # cluster2_2 has 2 balls.\n",
    "        \n",
    "        cluster2_1 = random.sample(cluster2, 2)\n",
    "        cluster2 = [x for x in cluster2 if x not in cluster2_1]\n",
    "        if(heavier_ball in cluster2_1) : # Finding the heavier ball in cluster2_1.\n",
    "            c2 += 1\n",
    "        else :                           # Finding the heavier ball in cluster2_2.\n",
    "            c2 += 1\n",
    "    \n",
    "    balls1 = balls                       # Resetting for the next trial.\n",
    "                    \n",
    "print(c1, 'times found in first trial')\n",
    "print(c2, 'times found in second trial')\n",
    "print(c3, 'times found in third trial')"
   ]
  },
  {
   "cell_type": "markdown",
   "metadata": {},
   "source": [
    "### Average trials needed."
   ]
  },
  {
   "cell_type": "code",
   "execution_count": 3,
   "metadata": {},
   "outputs": [
    {
     "name": "stdout",
     "output_type": "stream",
     "text": [
      "2\n"
     ]
    }
   ],
   "source": [
    "avg = (c1+(2*c2)+(3*c3))//n_trials\n",
    "\n",
    "print(avg)"
   ]
  },
  {
   "cell_type": "code",
   "execution_count": null,
   "metadata": {},
   "outputs": [],
   "source": []
  }
 ],
 "metadata": {
  "kernelspec": {
   "display_name": "Python 3",
   "language": "python",
   "name": "python3"
  },
  "language_info": {
   "codemirror_mode": {
    "name": "ipython",
    "version": 3
   },
   "file_extension": ".py",
   "mimetype": "text/x-python",
   "name": "python",
   "nbconvert_exporter": "python",
   "pygments_lexer": "ipython3",
   "version": "3.8.2"
  }
 },
 "nbformat": 4,
 "nbformat_minor": 4
}
